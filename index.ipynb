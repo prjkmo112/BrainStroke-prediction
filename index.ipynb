{
 "cells": [
  {
   "cell_type": "markdown",
   "id": "f683df53",
   "metadata": {},
   "source": [
    "# Brain Stroke Prediction - 뇌경색 분포\n",
    "\n",
    "**제작:** [Kang junmo]<br>\n",
    "**생성일:** 2022/08/06<br>\n",
    "**최근 수정일:** 2022/08/06<br>\n",
    "**설명:** 다양한 독립변수를 이용해 이진분류모델 구현한다"
   ]
  },
  {
   "cell_type": "markdown",
   "id": "4bb00c56",
   "metadata": {},
   "source": [
    "## 개요\n",
    "* 여러 독립변수를 전처리과정을 거쳐 이진분류(뇌경색O, 뇌경색X)모델을 구현한다.\n",
    "* 알고리즘: 이진분류모델"
   ]
  },
  {
   "cell_type": "markdown",
   "id": "e7bba6d1",
   "metadata": {},
   "source": [
    "## 참고\n",
    "* My Kaggle site\n",
    "> https://www.kaggle.com/code/progrkj/brainstroke-prediction\n",
    "* 데이터 출처\n",
    "> Kaggle: https://www.kaggle.com/datasets/jillanisofttech/brain-stroke-dataset\n",
    "* 자연어전처리\n",
    "> https://han-py.tistory.com/281"
   ]
  },
  {
   "cell_type": "markdown",
   "id": "29faf601",
   "metadata": {},
   "source": [
    "### GPU 사용"
   ]
  },
  {
   "cell_type": "code",
   "execution_count": null,
   "id": "0b3819ec",
   "metadata": {},
   "outputs": [],
   "source": [
    "# 할당된 gpu 사용\n",
    "!nvidia-smi --query-gpu=gpu_name,driver_version,memory.total --format=csv"
   ]
  },
  {
   "cell_type": "markdown",
   "id": "88d06a45",
   "metadata": {},
   "source": [
    "## CODE"
   ]
  },
  {
   "cell_type": "markdown",
   "id": "679136be",
   "metadata": {},
   "source": [
    "### 필요한 모듈 사용"
   ]
  },
  {
   "cell_type": "code",
   "execution_count": null,
   "id": "9bdc1930",
   "metadata": {},
   "outputs": [],
   "source": [
    "import tensorflow as tf\n",
    "import matplotlib.pyplot as plt\n",
    "import numpy as np\n",
    "import pandas as pd\n",
    "import os\n",
    "import datetime\n",
    "import math"
   ]
  },
  {
   "cell_type": "markdown",
   "id": "0b4e99af",
   "metadata": {},
   "source": [
    "#### 중요 변수 지정"
   ]
  },
  {
   "cell_type": "code",
   "execution_count": null,
   "id": "760521dd",
   "metadata": {},
   "outputs": [],
   "source": [
    "TEST_SIZE = 200\n",
    "NOW_DATE = datetime.datetime.now().strftime('%Y%m%d')\n",
    "NOW_TIME = datetime.datetime.now().strftime('%Y%m%d_%H%M%S')\n",
    "\n",
    "print(NOW_TIME)"
   ]
  },
  {
   "cell_type": "markdown",
   "id": "b90886a4",
   "metadata": {},
   "source": [
    "#### 중요 함수 저장"
   ]
  },
  {
   "cell_type": "code",
   "execution_count": null,
   "id": "1a760f1a",
   "metadata": {},
   "outputs": [],
   "source": [
    "def mkdir(directory):\n",
    "    try:\n",
    "        if not os.path.exists(directory):\n",
    "            os.makedirs(directory)\n",
    "            return True\n",
    "        else:\n",
    "            return True\n",
    "    except OSError:\n",
    "        print(f'Error[utils.mkdir] {OSError}')"
   ]
  },
  {
   "cell_type": "markdown",
   "id": "89c57923",
   "metadata": {},
   "source": [
    "### 데이터 전처리"
   ]
  },
  {
   "cell_type": "markdown",
   "id": "c78cdadb",
   "metadata": {},
   "source": [
    "#### pd.read_csv 이용"
   ]
  },
  {
   "cell_type": "code",
   "execution_count": null,
   "id": "a5831e46",
   "metadata": {},
   "outputs": [],
   "source": [
    "# df = pd.read_csv('./brain_stroke.csv', encoding='ansi')\n",
    "df = pd.read_csv('./archive/brain_stroke.csv')"
   ]
  },
  {
   "cell_type": "code",
   "execution_count": null,
   "id": "7d3d19b1",
   "metadata": {},
   "outputs": [],
   "source": [
    "df = df.sample(frac=1).reset_index(drop=True)"
   ]
  },
  {
   "cell_type": "markdown",
   "id": "548ae527",
   "metadata": {},
   "source": [
    "#### 문자열 처리"
   ]
  },
  {
   "cell_type": "code",
   "execution_count": null,
   "id": "3a9ab652",
   "metadata": {},
   "outputs": [],
   "source": [
    "# df[\"gender\"] = np.where(df[\"gender\"].to_numpy() == \"Male\", 0, 1)            # Male: 0, Female: 1\n",
    "df[\"ever_married\"] = np.where(df[\"ever_married\"].to_numpy() == \"Yes\", 1, 0) # Yes: 1, No: 0\n",
    "\n",
    "__df = df[\"work_type\"]\n",
    "df[\"work_type\"] = np.select(\n",
    "    condlist=[__df == \"Private\", __df == 'Govt_job', __df == 'children', __df == 'Self-employed'],\n",
    "    choicelist=[1,2,3,4],\n",
    "    default=np.nan\n",
    ")\n",
    "\n",
    "__df = df[\"Residence_type\"]\n",
    "df[\"Residence_type\"] = np.where(__df.to_numpy() == \"Urban\", 1, 0)           # Urban: 1, Rural: 0\n",
    "__df = df[\"smoking_status\"]\n",
    "df[\"smoking_status\"] = np.select(\n",
    "    condlist=[__df == \"Unknown\", __df == \"never smoked\", __df == \"formerly smoked\", __df == \"smokes\"],\n",
    "    choicelist=[0,1,2,3],\n",
    "    default=np.nan\n",
    ")"
   ]
  },
  {
   "cell_type": "markdown",
   "id": "2606eced",
   "metadata": {},
   "source": [
    "#### One-hot encoding (원핫인코딩)"
   ]
  },
  {
   "cell_type": "code",
   "execution_count": null,
   "id": "61524a91",
   "metadata": {},
   "outputs": [],
   "source": [
    "df = pd.get_dummies(df, prefix=['stroke', 'gender'], columns=['stroke', 'gender'])"
   ]
  },
  {
   "cell_type": "markdown",
   "id": "2eff7228",
   "metadata": {},
   "source": [
    "### 데이터 표준화"
   ]
  },
  {
   "cell_type": "code",
   "execution_count": null,
   "id": "1886dade",
   "metadata": {},
   "outputs": [],
   "source": [
    "age_min = np.min(df['age'])\n",
    "age_max = np.max(df['age'])\n",
    "\n",
    "avg_glucose_level_min = np.min(df['avg_glucose_level'])\n",
    "avg_glucose_level_max = np.max(df['avg_glucose_level'])\n",
    "\n",
    "bmi_min = np.min(df['bmi'])\n",
    "bmi_max = np.max(df['bmi'])\n",
    "\n",
    "df['age'] = (df['age']-age_min)/(age_max-age_min)\n",
    "df['avg_glucose_level'] = (df['avg_glucose_level']-avg_glucose_level_min)/(avg_glucose_level_max-avg_glucose_level_min)\n",
    "df['bmi'] = (df['bmi']-bmi_min)/(bmi_max-bmi_min)"
   ]
  },
  {
   "cell_type": "markdown",
   "id": "c0066ce7",
   "metadata": {},
   "source": [
    "#### 데이터 손실값 확인"
   ]
  },
  {
   "cell_type": "code",
   "execution_count": null,
   "id": "18214834",
   "metadata": {},
   "outputs": [],
   "source": [
    "df.isnull().sum()"
   ]
  },
  {
   "cell_type": "markdown",
   "id": "2249ed19",
   "metadata": {},
   "source": [
    "### data frame 확인"
   ]
  },
  {
   "cell_type": "code",
   "execution_count": null,
   "id": "23c6df0c",
   "metadata": {},
   "outputs": [],
   "source": [
    "print(df.shape)\n",
    "print(df.dtypes)\n",
    "df.head()"
   ]
  },
  {
   "cell_type": "markdown",
   "id": "c6c23b1a",
   "metadata": {},
   "source": [
    "### 불필요한 컬럼 제외하고 데이터 구성"
   ]
  },
  {
   "cell_type": "code",
   "execution_count": null,
   "id": "88eec6f6",
   "metadata": {},
   "outputs": [],
   "source": [
    "# ever_married, work_type 제외\n",
    "# condition_format = ['gender', 'age', 'hypertension', 'heart_disease', 'ever_married', 'work_type', 'Residence_type', 'avg_glucose_level', 'bmi', 'smoking_status']\n",
    "condition_format = ['gender_Male', 'gender_Female', 'age', 'hypertension', 'heart_disease', 'Residence_type', 'avg_glucose_level', 'bmi', 'smoking_status']\n",
    "X_train = df[condition_format][TEST_SIZE:]\n",
    "X_test = df[condition_format][:TEST_SIZE]\n",
    "\n",
    "result_format = ['stroke_0', 'stroke_1']\n",
    "Y_train = df[result_format][TEST_SIZE:]\n",
    "Y_test = df[result_format][:TEST_SIZE]\n",
    "print(X_train.shape, Y_train.shape)"
   ]
  },
  {
   "cell_type": "markdown",
   "id": "937caf77",
   "metadata": {},
   "source": [
    "### 모델 구성"
   ]
  },
  {
   "cell_type": "code",
   "execution_count": null,
   "id": "6a38051b",
   "metadata": {},
   "outputs": [],
   "source": [
    "len(condition_format), len(result_format)"
   ]
  },
  {
   "cell_type": "code",
   "execution_count": null,
   "id": "1a620114",
   "metadata": {},
   "outputs": [],
   "source": [
    "model = tf.keras.models.Sequential([\n",
    "    tf.keras.layers.Input(shape=[len(condition_format)]),\n",
    "    tf.keras.layers.Dense(128, activation='relu'),\n",
    "    tf.keras.layers.Dense(64, activation='relu'),\n",
    "    tf.keras.layers.Dense(32, activation='relu'),\n",
    "    tf.keras.layers.Dense(16, activation='relu'),\n",
    "    tf.keras.layers.Dense(len(result_format), activation='sigmoid')\n",
    "])"
   ]
  },
  {
   "cell_type": "code",
   "execution_count": null,
   "id": "20d2efb4",
   "metadata": {},
   "outputs": [],
   "source": [
    "model.summary()"
   ]
  },
  {
   "cell_type": "code",
   "execution_count": null,
   "id": "5202ab8a",
   "metadata": {},
   "outputs": [],
   "source": [
    "model.compile(\n",
    "    loss='categorical_crossentropy',\n",
    "    optimizer='adam',\n",
    "    metrics=['accuracy']\n",
    ")"
   ]
  },
  {
   "cell_type": "markdown",
   "id": "06aa1828",
   "metadata": {},
   "source": [
    "### 모델 학습"
   ]
  },
  {
   "cell_type": "code",
   "execution_count": null,
   "id": "9efca4fe",
   "metadata": {},
   "outputs": [],
   "source": [
    "history = model.fit(\n",
    "    X_train,\n",
    "    Y_train,\n",
    "    epochs=100,\n",
    "    verbose=1,\n",
    "    # (all rows - TEST_SIZE)/8\n",
    "    steps_per_epoch=int((4982-TEST_SIZE)/8),\n",
    "    callbacks=[tf.keras.callbacks.EarlyStopping(monitor=\"val_loss\", patience=50, verbose=1)],\n",
    "    validation_split=0.2\n",
    ")"
   ]
  },
  {
   "cell_type": "markdown",
   "id": "999036a5",
   "metadata": {},
   "source": [
    "### 모델 저장하기"
   ]
  },
  {
   "cell_type": "code",
   "execution_count": null,
   "id": "ef3cc2e3",
   "metadata": {},
   "outputs": [],
   "source": [
    "save_path = f'./results/{NOW_TIME}'\n",
    "\n",
    "_save_path = f'{save_path}/datas'\n",
    "mkdir(_save_path)\n",
    "np.savez(f'{_save_path}/X_train.npz', np.array(X_train))\n",
    "np.savez(f'{_save_path}/Y_train.npz', np.array(X_train))"
   ]
  },
  {
   "cell_type": "code",
   "execution_count": null,
   "id": "fc4139fe",
   "metadata": {},
   "outputs": [],
   "source": [
    "_save_path = f'{save_path}/models'\n",
    "model.save(f'{_save_path}/model.h5')\n",
    "model.save(_save_path)"
   ]
  },
  {
   "cell_type": "markdown",
   "id": "b1e140c9",
   "metadata": {},
   "source": [
    "### 모델 검증"
   ]
  },
  {
   "cell_type": "code",
   "execution_count": null,
   "id": "f35984c0",
   "metadata": {},
   "outputs": [],
   "source": [
    "print(model.get_weights())"
   ]
  },
  {
   "cell_type": "code",
   "execution_count": null,
   "id": "580dfde1",
   "metadata": {},
   "outputs": [],
   "source": [
    "_predictResult = np.array(Y_test)\n",
    "predictResult = np.argmax(_predictResult, axis=1)\n",
    "_predictInfos = model.predict(X_test)\n",
    "predictInfos = np.argmax(_predictInfos, axis=1)\n",
    "\n",
    "RESULT_INFOS = []\n",
    "for i in range(len(predictResult)):\n",
    "    RESULT_INFOS.append({\n",
    "        \"rate_0\": _predictInfos[i][0],\n",
    "        \"rate_1\": _predictInfos[i][1],\n",
    "        \"predict\": predictInfos[i],\n",
    "        \"res\": predictResult[i],\n",
    "        \"accuracy\": predictResult[i] == predictInfos[i]\n",
    "    })\n",
    "\n",
    "FilteredResultInfos = list(filter(lambda val: val['accuracy'] == True, RESULT_INFOS))\n",
    "print(len(FilteredResultInfos))\n",
    "print(f'accuracy percent: {len(FilteredResultInfos)/len(RESULT_INFOS)*100}%')\n",
    "\n",
    "pd.DataFrame(RESULT_INFOS)"
   ]
  }
 ],
 "metadata": {
  "interpreter": {
   "hash": "6dc46c9fe9882a1afddbdcc3ea330f94a613a6941464ccd87cb080f290028a72"
  },
  "kernelspec": {
   "display_name": "Python 3.8.13 ('tf_gpu')",
   "language": "python",
   "name": "python3"
  },
  "language_info": {
   "codemirror_mode": {
    "name": "ipython",
    "version": 3
   },
   "file_extension": ".py",
   "mimetype": "text/x-python",
   "name": "python",
   "nbconvert_exporter": "python",
   "pygments_lexer": "ipython3",
   "version": "3.8.13"
  }
 },
 "nbformat": 4,
 "nbformat_minor": 5
}
