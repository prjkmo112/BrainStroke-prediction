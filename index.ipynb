{
 "cells": [
  {
   "cell_type": "markdown",
   "id": "f683df53",
   "metadata": {},
   "source": [
    "# Brain Stroke Prediction - 뇌경색 분포\n",
    "\n",
    "**제작:** [Kang junmo]<br>\n",
    "**생성일:** 2022/08/06<br>\n",
    "**최근 수정일:** 2022/08/06<br>\n",
    "**설명:** 다양한 독립변수를 이용해 이진분류모델 구현한다"
   ]
  },
  {
   "cell_type": "markdown",
   "id": "4bb00c56",
   "metadata": {},
   "source": [
    "## 개요\n",
    "* 여러 독립변수를 전처리과정을 거쳐 이진분류(뇌경색O, 뇌경색X)모델을 구현한다.\n",
    "* 알고리즘: 이진분류모델"
   ]
  },
  {
   "cell_type": "markdown",
   "id": "e7bba6d1",
   "metadata": {},
   "source": [
    "## 참고\n",
    "* My Kaggle site\n",
    "> https://www.kaggle.com/code/progrkj/brainstroke-prediction\n",
    "* 데이터 출처\n",
    "> Kaggle: https://www.kaggle.com/datasets/jillanisofttech/brain-stroke-dataset\n",
    "* 자연어전처리\n",
    "> https://han-py.tistory.com/281"
   ]
  },
  {
   "cell_type": "markdown",
   "id": "29faf601",
   "metadata": {},
   "source": [
    "### GPU 사용"
   ]
  },
  {
   "cell_type": "code",
   "execution_count": 248,
   "id": "0b3819ec",
   "metadata": {},
   "outputs": [
    {
     "name": "stdout",
     "output_type": "stream",
     "text": [
      "name, driver_version, memory.total [MiB]\n",
      "NVIDIA GeForce RTX 3080 Ti, 512.59, 12288 MiB\n"
     ]
    }
   ],
   "source": [
    "# 할당된 gpu 사용\n",
    "!nvidia-smi --query-gpu=gpu_name,driver_version,memory.total --format=csv"
   ]
  },
  {
   "cell_type": "markdown",
   "id": "88d06a45",
   "metadata": {},
   "source": [
    "## CODE"
   ]
  },
  {
   "cell_type": "markdown",
   "id": "679136be",
   "metadata": {},
   "source": [
    "### 필요한 모듈 사용"
   ]
  },
  {
   "cell_type": "code",
   "execution_count": 249,
   "id": "9bdc1930",
   "metadata": {},
   "outputs": [],
   "source": [
    "import tensorflow as tf\n",
    "import matplotlib.pyplot as plt\n",
    "import numpy as np\n",
    "import pandas as pd\n",
    "import os\n",
    "import datetime\n",
    "import math"
   ]
  },
  {
   "cell_type": "markdown",
   "id": "0b4e99af",
   "metadata": {},
   "source": [
    "#### 중요 변수 지정"
   ]
  },
  {
   "cell_type": "code",
   "execution_count": 250,
   "id": "760521dd",
   "metadata": {},
   "outputs": [
    {
     "name": "stdout",
     "output_type": "stream",
     "text": [
      "20220808_110036\n"
     ]
    }
   ],
   "source": [
    "TEST_SIZE = 200\n",
    "NOW_DATE = datetime.datetime.now().strftime('%Y%m%d')\n",
    "NOW_TIME = datetime.datetime.now().strftime('%Y%m%d_%H%M%S')\n",
    "\n",
    "print(NOW_TIME)"
   ]
  },
  {
   "cell_type": "markdown",
   "id": "b90886a4",
   "metadata": {},
   "source": [
    "#### 중요 함수 저장"
   ]
  },
  {
   "cell_type": "code",
   "execution_count": 251,
   "id": "1a760f1a",
   "metadata": {},
   "outputs": [],
   "source": [
    "def mkdir(directory):\n",
    "    try:\n",
    "        if not os.path.exists(directory):\n",
    "            os.makedirs(directory)\n",
    "            return True\n",
    "        else:\n",
    "            return True\n",
    "    except OSError:\n",
    "        print(f'Error[utils.mkdir] {OSError}')"
   ]
  },
  {
   "cell_type": "markdown",
   "id": "89c57923",
   "metadata": {},
   "source": [
    "### 데이터 전처리"
   ]
  },
  {
   "cell_type": "markdown",
   "id": "c78cdadb",
   "metadata": {},
   "source": [
    "#### pd.read_csv 이용"
   ]
  },
  {
   "cell_type": "code",
   "execution_count": 252,
   "id": "a5831e46",
   "metadata": {},
   "outputs": [],
   "source": [
    "# df = pd.read_csv('./brain_stroke.csv', encoding='ansi')\n",
    "df = pd.read_csv('./archive/brain_stroke.csv')"
   ]
  },
  {
   "cell_type": "code",
   "execution_count": 253,
   "id": "7d3d19b1",
   "metadata": {},
   "outputs": [],
   "source": [
    "df = df.sample(frac=1).reset_index(drop=True)"
   ]
  },
  {
   "cell_type": "markdown",
   "id": "548ae527",
   "metadata": {},
   "source": [
    "#### 문자열 처리"
   ]
  },
  {
   "cell_type": "code",
   "execution_count": 254,
   "id": "3a9ab652",
   "metadata": {},
   "outputs": [],
   "source": [
    "# df[\"gender\"] = np.where(df[\"gender\"].to_numpy() == \"Male\", 0, 1)            # Male: 0, Female: 1\n",
    "df[\"ever_married\"] = np.where(df[\"ever_married\"].to_numpy() == \"Yes\", 1, 0) # Yes: 1, No: 0\n",
    "\n",
    "__df = df[\"work_type\"]\n",
    "df[\"work_type\"] = np.select(\n",
    "    condlist=[__df == \"Private\", __df == 'Govt_job', __df == 'children', __df == 'Self-employed'],\n",
    "    choicelist=[1,2,3,4],\n",
    "    default=np.nan\n",
    ")\n",
    "\n",
    "__df = df[\"Residence_type\"]\n",
    "df[\"Residence_type\"] = np.where(__df.to_numpy() == \"Urban\", 1, 0)           # Urban: 1, Rural: 0\n",
    "__df = df[\"smoking_status\"]\n",
    "df[\"smoking_status\"] = np.select(\n",
    "    condlist=[__df == \"Unknown\", __df == \"never smoked\", __df == \"formerly smoked\", __df == \"smokes\"],\n",
    "    choicelist=[0,1,2,3],\n",
    "    default=np.nan\n",
    ")"
   ]
  },
  {
   "cell_type": "markdown",
   "id": "2606eced",
   "metadata": {},
   "source": [
    "#### One-hot encoding (원핫인코딩)"
   ]
  },
  {
   "cell_type": "code",
   "execution_count": 255,
   "id": "61524a91",
   "metadata": {},
   "outputs": [],
   "source": [
    "df = pd.get_dummies(df, prefix=['stroke', 'gender'], columns=['stroke', 'gender'])"
   ]
  },
  {
   "cell_type": "markdown",
   "id": "2eff7228",
   "metadata": {},
   "source": [
    "### 데이터 표준화"
   ]
  },
  {
   "cell_type": "code",
   "execution_count": 256,
   "id": "1886dade",
   "metadata": {},
   "outputs": [],
   "source": [
    "age_min = np.min(df['age'])\n",
    "age_max = np.max(df['age'])\n",
    "\n",
    "avg_glucose_level_min = np.min(df['avg_glucose_level'])\n",
    "avg_glucose_level_max = np.max(df['avg_glucose_level'])\n",
    "\n",
    "bmi_min = np.min(df['bmi'])\n",
    "bmi_max = np.max(df['bmi'])\n",
    "\n",
    "df['age'] = (df['age']-age_min)/(age_max-age_min)\n",
    "df['avg_glucose_level'] = (df['avg_glucose_level']-avg_glucose_level_min)/(avg_glucose_level_max-avg_glucose_level_min)\n",
    "df['bmi'] = (df['bmi']-bmi_min)/(bmi_max-bmi_min)"
   ]
  },
  {
   "cell_type": "markdown",
   "id": "c0066ce7",
   "metadata": {},
   "source": [
    "#### 데이터 손실값 확인"
   ]
  },
  {
   "cell_type": "code",
   "execution_count": 257,
   "id": "18214834",
   "metadata": {},
   "outputs": [
    {
     "data": {
      "text/plain": [
       "age                  0\n",
       "hypertension         0\n",
       "heart_disease        0\n",
       "ever_married         0\n",
       "work_type            0\n",
       "Residence_type       0\n",
       "avg_glucose_level    0\n",
       "bmi                  0\n",
       "smoking_status       0\n",
       "stroke_0             0\n",
       "stroke_1             0\n",
       "gender_Female        0\n",
       "gender_Male          0\n",
       "dtype: int64"
      ]
     },
     "execution_count": 257,
     "metadata": {},
     "output_type": "execute_result"
    }
   ],
   "source": [
    "df.isnull().sum()"
   ]
  },
  {
   "cell_type": "markdown",
   "id": "2249ed19",
   "metadata": {},
   "source": [
    "### data frame 확인"
   ]
  },
  {
   "cell_type": "code",
   "execution_count": 258,
   "id": "23c6df0c",
   "metadata": {},
   "outputs": [
    {
     "name": "stdout",
     "output_type": "stream",
     "text": [
      "(4981, 13)\n",
      "age                  float64\n",
      "hypertension           int64\n",
      "heart_disease          int64\n",
      "ever_married           int32\n",
      "work_type            float64\n",
      "Residence_type         int32\n",
      "avg_glucose_level    float64\n",
      "bmi                  float64\n",
      "smoking_status       float64\n",
      "stroke_0               uint8\n",
      "stroke_1               uint8\n",
      "gender_Female          uint8\n",
      "gender_Male            uint8\n",
      "dtype: object\n"
     ]
    },
    {
     "data": {
      "text/html": [
       "<div>\n",
       "<style scoped>\n",
       "    .dataframe tbody tr th:only-of-type {\n",
       "        vertical-align: middle;\n",
       "    }\n",
       "\n",
       "    .dataframe tbody tr th {\n",
       "        vertical-align: top;\n",
       "    }\n",
       "\n",
       "    .dataframe thead th {\n",
       "        text-align: right;\n",
       "    }\n",
       "</style>\n",
       "<table border=\"1\" class=\"dataframe\">\n",
       "  <thead>\n",
       "    <tr style=\"text-align: right;\">\n",
       "      <th></th>\n",
       "      <th>age</th>\n",
       "      <th>hypertension</th>\n",
       "      <th>heart_disease</th>\n",
       "      <th>ever_married</th>\n",
       "      <th>work_type</th>\n",
       "      <th>Residence_type</th>\n",
       "      <th>avg_glucose_level</th>\n",
       "      <th>bmi</th>\n",
       "      <th>smoking_status</th>\n",
       "      <th>stroke_0</th>\n",
       "      <th>stroke_1</th>\n",
       "      <th>gender_Female</th>\n",
       "      <th>gender_Male</th>\n",
       "    </tr>\n",
       "  </thead>\n",
       "  <tbody>\n",
       "    <tr>\n",
       "      <th>0</th>\n",
       "      <td>0.572754</td>\n",
       "      <td>0</td>\n",
       "      <td>0</td>\n",
       "      <td>1</td>\n",
       "      <td>1.0</td>\n",
       "      <td>0</td>\n",
       "      <td>0.012187</td>\n",
       "      <td>0.550143</td>\n",
       "      <td>3.0</td>\n",
       "      <td>1</td>\n",
       "      <td>0</td>\n",
       "      <td>0</td>\n",
       "      <td>1</td>\n",
       "    </tr>\n",
       "    <tr>\n",
       "      <th>1</th>\n",
       "      <td>0.731445</td>\n",
       "      <td>0</td>\n",
       "      <td>0</td>\n",
       "      <td>1</td>\n",
       "      <td>4.0</td>\n",
       "      <td>1</td>\n",
       "      <td>0.682855</td>\n",
       "      <td>0.518625</td>\n",
       "      <td>3.0</td>\n",
       "      <td>1</td>\n",
       "      <td>0</td>\n",
       "      <td>1</td>\n",
       "      <td>0</td>\n",
       "    </tr>\n",
       "    <tr>\n",
       "      <th>2</th>\n",
       "      <td>0.743652</td>\n",
       "      <td>1</td>\n",
       "      <td>1</td>\n",
       "      <td>1</td>\n",
       "      <td>1.0</td>\n",
       "      <td>1</td>\n",
       "      <td>0.842304</td>\n",
       "      <td>0.564470</td>\n",
       "      <td>2.0</td>\n",
       "      <td>1</td>\n",
       "      <td>0</td>\n",
       "      <td>1</td>\n",
       "      <td>0</td>\n",
       "    </tr>\n",
       "    <tr>\n",
       "      <th>3</th>\n",
       "      <td>0.633789</td>\n",
       "      <td>0</td>\n",
       "      <td>0</td>\n",
       "      <td>1</td>\n",
       "      <td>4.0</td>\n",
       "      <td>1</td>\n",
       "      <td>0.268165</td>\n",
       "      <td>0.696275</td>\n",
       "      <td>1.0</td>\n",
       "      <td>1</td>\n",
       "      <td>0</td>\n",
       "      <td>1</td>\n",
       "      <td>0</td>\n",
       "    </tr>\n",
       "    <tr>\n",
       "      <th>4</th>\n",
       "      <td>0.487305</td>\n",
       "      <td>1</td>\n",
       "      <td>0</td>\n",
       "      <td>1</td>\n",
       "      <td>4.0</td>\n",
       "      <td>1</td>\n",
       "      <td>0.175792</td>\n",
       "      <td>0.309456</td>\n",
       "      <td>3.0</td>\n",
       "      <td>1</td>\n",
       "      <td>0</td>\n",
       "      <td>0</td>\n",
       "      <td>1</td>\n",
       "    </tr>\n",
       "  </tbody>\n",
       "</table>\n",
       "</div>"
      ],
      "text/plain": [
       "        age  hypertension  heart_disease  ever_married  work_type  \\\n",
       "0  0.572754             0              0             1        1.0   \n",
       "1  0.731445             0              0             1        4.0   \n",
       "2  0.743652             1              1             1        1.0   \n",
       "3  0.633789             0              0             1        4.0   \n",
       "4  0.487305             1              0             1        4.0   \n",
       "\n",
       "   Residence_type  avg_glucose_level       bmi  smoking_status  stroke_0  \\\n",
       "0               0           0.012187  0.550143             3.0         1   \n",
       "1               1           0.682855  0.518625             3.0         1   \n",
       "2               1           0.842304  0.564470             2.0         1   \n",
       "3               1           0.268165  0.696275             1.0         1   \n",
       "4               1           0.175792  0.309456             3.0         1   \n",
       "\n",
       "   stroke_1  gender_Female  gender_Male  \n",
       "0         0              0            1  \n",
       "1         0              1            0  \n",
       "2         0              1            0  \n",
       "3         0              1            0  \n",
       "4         0              0            1  "
      ]
     },
     "execution_count": 258,
     "metadata": {},
     "output_type": "execute_result"
    }
   ],
   "source": [
    "print(df.shape)\n",
    "print(df.dtypes)\n",
    "df.head()"
   ]
  },
  {
   "cell_type": "markdown",
   "id": "c6c23b1a",
   "metadata": {},
   "source": [
    "### 불필요한 컬럼 제외하고 데이터 구성"
   ]
  },
  {
   "cell_type": "code",
   "execution_count": 259,
   "id": "88eec6f6",
   "metadata": {},
   "outputs": [
    {
     "name": "stdout",
     "output_type": "stream",
     "text": [
      "(4781, 9) (4781, 2)\n"
     ]
    }
   ],
   "source": [
    "# ever_married, work_type 제외\n",
    "# condition_format = ['gender', 'age', 'hypertension', 'heart_disease', 'ever_married', 'work_type', 'Residence_type', 'avg_glucose_level', 'bmi', 'smoking_status']\n",
    "condition_format = ['gender_Male', 'gender_Female', 'age', 'hypertension', 'heart_disease', 'Residence_type', 'avg_glucose_level', 'bmi', 'smoking_status']\n",
    "X_train = df[condition_format][TEST_SIZE:]\n",
    "X_test = df[condition_format][:TEST_SIZE]\n",
    "\n",
    "result_format = ['stroke_0', 'stroke_1']\n",
    "Y_train = df[result_format][TEST_SIZE:]\n",
    "Y_test = df[result_format][:TEST_SIZE]\n",
    "print(X_train.shape, Y_train.shape)"
   ]
  },
  {
   "cell_type": "markdown",
   "id": "937caf77",
   "metadata": {},
   "source": [
    "### 모델 구성"
   ]
  },
  {
   "cell_type": "code",
   "execution_count": 260,
   "id": "6a38051b",
   "metadata": {},
   "outputs": [
    {
     "data": {
      "text/plain": [
       "(9, 2)"
      ]
     },
     "execution_count": 260,
     "metadata": {},
     "output_type": "execute_result"
    }
   ],
   "source": [
    "len(condition_format), len(result_format)"
   ]
  },
  {
   "cell_type": "code",
   "execution_count": 261,
   "id": "1a620114",
   "metadata": {},
   "outputs": [],
   "source": [
    "model = tf.keras.models.Sequential([\n",
    "    tf.keras.layers.Input(shape=[len(condition_format)]),\n",
    "    tf.keras.layers.Dense(128, activation='relu'),\n",
    "    tf.keras.layers.Dense(64, activation='relu'),\n",
    "    tf.keras.layers.Dense(32, activation='relu'),\n",
    "    tf.keras.layers.Dense(16, activation='relu'),\n",
    "    tf.keras.layers.Dense(len(result_format), activation='sigmoid')\n",
    "])"
   ]
  },
  {
   "cell_type": "code",
   "execution_count": 262,
   "id": "20d2efb4",
   "metadata": {},
   "outputs": [
    {
     "name": "stdout",
     "output_type": "stream",
     "text": [
      "Model: \"sequential_11\"\n",
      "_________________________________________________________________\n",
      " Layer (type)                Output Shape              Param #   \n",
      "=================================================================\n",
      " dense_55 (Dense)            (None, 128)               1280      \n",
      "                                                                 \n",
      " dense_56 (Dense)            (None, 64)                8256      \n",
      "                                                                 \n",
      " dense_57 (Dense)            (None, 32)                2080      \n",
      "                                                                 \n",
      " dense_58 (Dense)            (None, 16)                528       \n",
      "                                                                 \n",
      " dense_59 (Dense)            (None, 2)                 34        \n",
      "                                                                 \n",
      "=================================================================\n",
      "Total params: 12,178\n",
      "Trainable params: 12,178\n",
      "Non-trainable params: 0\n",
      "_________________________________________________________________\n"
     ]
    }
   ],
   "source": [
    "model.summary()"
   ]
  },
  {
   "cell_type": "code",
   "execution_count": 263,
   "id": "5202ab8a",
   "metadata": {},
   "outputs": [],
   "source": [
    "model.compile(\n",
    "    loss='categorical_crossentropy',\n",
    "    optimizer='adam',\n",
    "    metrics=['accuracy']\n",
    ")"
   ]
  },
  {
   "cell_type": "markdown",
   "id": "06aa1828",
   "metadata": {},
   "source": [
    "### 모델 학습"
   ]
  },
  {
   "cell_type": "code",
   "execution_count": 264,
   "id": "9efca4fe",
   "metadata": {},
   "outputs": [
    {
     "name": "stdout",
     "output_type": "stream",
     "text": [
      "Epoch 1/100\n",
      "597/597 [==============================] - 6s 9ms/step - loss: 0.1995 - accuracy: 0.9485 - val_loss: 0.1779 - val_accuracy: 0.9436\n",
      "Epoch 2/100\n",
      "597/597 [==============================] - 4s 7ms/step - loss: 0.1675 - accuracy: 0.9514 - val_loss: 0.1767 - val_accuracy: 0.9436\n",
      "Epoch 3/100\n",
      "597/597 [==============================] - 4s 6ms/step - loss: 0.1636 - accuracy: 0.9509 - val_loss: 0.1739 - val_accuracy: 0.9436\n",
      "Epoch 4/100\n",
      "597/597 [==============================] - 4s 7ms/step - loss: 0.1564 - accuracy: 0.9526 - val_loss: 0.1780 - val_accuracy: 0.9436\n",
      "Epoch 5/100\n",
      "597/597 [==============================] - 4s 7ms/step - loss: 0.1661 - accuracy: 0.9499 - val_loss: 0.1717 - val_accuracy: 0.9436\n",
      "Epoch 6/100\n",
      "597/597 [==============================] - 3s 6ms/step - loss: 0.1718 - accuracy: 0.9497 - val_loss: 0.1832 - val_accuracy: 0.9436\n",
      "Epoch 7/100\n",
      "597/597 [==============================] - 4s 6ms/step - loss: 0.1595 - accuracy: 0.9511 - val_loss: 0.1743 - val_accuracy: 0.9436\n",
      "Epoch 8/100\n",
      "597/597 [==============================] - 4s 6ms/step - loss: 0.1612 - accuracy: 0.9504 - val_loss: 0.1792 - val_accuracy: 0.9436\n",
      "Epoch 9/100\n",
      "597/597 [==============================] - 4s 6ms/step - loss: 0.1607 - accuracy: 0.9506 - val_loss: 0.1854 - val_accuracy: 0.9436\n",
      "Epoch 10/100\n",
      "597/597 [==============================] - 4s 7ms/step - loss: 0.1604 - accuracy: 0.9499 - val_loss: 0.1752 - val_accuracy: 0.9436\n",
      "Epoch 11/100\n",
      "597/597 [==============================] - 8s 14ms/step - loss: 0.1527 - accuracy: 0.9532 - val_loss: 0.1740 - val_accuracy: 0.9436\n",
      "Epoch 12/100\n",
      "597/597 [==============================] - 8s 14ms/step - loss: 0.1582 - accuracy: 0.9509 - val_loss: 0.1876 - val_accuracy: 0.9436\n",
      "Epoch 13/100\n",
      "597/597 [==============================] - 9s 15ms/step - loss: 0.1637 - accuracy: 0.9490 - val_loss: 0.1735 - val_accuracy: 0.9436\n",
      "Epoch 14/100\n",
      "597/597 [==============================] - 9s 14ms/step - loss: 0.1518 - accuracy: 0.9523 - val_loss: 0.1809 - val_accuracy: 0.9436\n",
      "Epoch 15/100\n",
      "597/597 [==============================] - 8s 13ms/step - loss: 0.1574 - accuracy: 0.9499 - val_loss: 0.1791 - val_accuracy: 0.9436\n",
      "Epoch 16/100\n",
      "597/597 [==============================] - 9s 15ms/step - loss: 0.1578 - accuracy: 0.9514 - val_loss: 0.1797 - val_accuracy: 0.9436\n",
      "Epoch 17/100\n",
      "597/597 [==============================] - 9s 15ms/step - loss: 0.1515 - accuracy: 0.9506 - val_loss: 0.1779 - val_accuracy: 0.9436\n",
      "Epoch 18/100\n",
      "597/597 [==============================] - 8s 14ms/step - loss: 0.1533 - accuracy: 0.9504 - val_loss: 0.1837 - val_accuracy: 0.9436\n",
      "Epoch 19/100\n",
      "597/597 [==============================] - 7s 12ms/step - loss: 0.1554 - accuracy: 0.9528 - val_loss: 0.1806 - val_accuracy: 0.9436\n",
      "Epoch 20/100\n",
      "597/597 [==============================] - 5s 9ms/step - loss: 0.1574 - accuracy: 0.9497 - val_loss: 0.1938 - val_accuracy: 0.9436\n",
      "Epoch 21/100\n",
      "597/597 [==============================] - 5s 9ms/step - loss: 0.1576 - accuracy: 0.9497 - val_loss: 0.1775 - val_accuracy: 0.9436\n",
      "Epoch 22/100\n",
      "597/597 [==============================] - 4s 7ms/step - loss: 0.1503 - accuracy: 0.9515 - val_loss: 0.1821 - val_accuracy: 0.9436\n",
      "Epoch 23/100\n",
      "597/597 [==============================] - 4s 7ms/step - loss: 0.1477 - accuracy: 0.9530 - val_loss: 0.1890 - val_accuracy: 0.9436\n",
      "Epoch 24/100\n",
      "597/597 [==============================] - 4s 6ms/step - loss: 0.1548 - accuracy: 0.9494 - val_loss: 0.1836 - val_accuracy: 0.9415\n",
      "Epoch 25/100\n",
      "597/597 [==============================] - 4s 7ms/step - loss: 0.1486 - accuracy: 0.9528 - val_loss: 0.1918 - val_accuracy: 0.9404\n",
      "Epoch 26/100\n",
      "597/597 [==============================] - 4s 7ms/step - loss: 0.1545 - accuracy: 0.9497 - val_loss: 0.1874 - val_accuracy: 0.9363\n",
      "Epoch 27/100\n",
      "597/597 [==============================] - 4s 6ms/step - loss: 0.1504 - accuracy: 0.9516 - val_loss: 0.1933 - val_accuracy: 0.9436\n",
      "Epoch 28/100\n",
      "597/597 [==============================] - 4s 6ms/step - loss: 0.1484 - accuracy: 0.9504 - val_loss: 0.1856 - val_accuracy: 0.9363\n",
      "Epoch 29/100\n",
      "597/597 [==============================] - 9s 15ms/step - loss: 0.1494 - accuracy: 0.9502 - val_loss: 0.1964 - val_accuracy: 0.9342\n",
      "Epoch 30/100\n",
      "597/597 [==============================] - 9s 16ms/step - loss: 0.1512 - accuracy: 0.9516 - val_loss: 0.1971 - val_accuracy: 0.9342\n",
      "Epoch 31/100\n",
      "597/597 [==============================] - 9s 15ms/step - loss: 0.1431 - accuracy: 0.9526 - val_loss: 0.2035 - val_accuracy: 0.9446\n",
      "Epoch 32/100\n",
      "597/597 [==============================] - 9s 14ms/step - loss: 0.1463 - accuracy: 0.9518 - val_loss: 0.1981 - val_accuracy: 0.9394\n",
      "Epoch 33/100\n",
      "597/597 [==============================] - 9s 16ms/step - loss: 0.1425 - accuracy: 0.9523 - val_loss: 0.2020 - val_accuracy: 0.9425\n",
      "Epoch 34/100\n",
      "597/597 [==============================] - 10s 17ms/step - loss: 0.1429 - accuracy: 0.9545 - val_loss: 0.2052 - val_accuracy: 0.9342\n",
      "Epoch 35/100\n",
      "597/597 [==============================] - 9s 16ms/step - loss: 0.1511 - accuracy: 0.9475 - val_loss: 0.2014 - val_accuracy: 0.9321\n",
      "Epoch 36/100\n",
      "597/597 [==============================] - 9s 15ms/step - loss: 0.1318 - accuracy: 0.9562 - val_loss: 0.2546 - val_accuracy: 0.9363\n",
      "Epoch 37/100\n",
      "597/597 [==============================] - 9s 15ms/step - loss: 0.1503 - accuracy: 0.9504 - val_loss: 0.2064 - val_accuracy: 0.9342\n",
      "Epoch 38/100\n",
      "597/597 [==============================] - 5s 9ms/step - loss: 0.1424 - accuracy: 0.9514 - val_loss: 0.1989 - val_accuracy: 0.9321\n",
      "Epoch 39/100\n",
      "597/597 [==============================] - 5s 9ms/step - loss: 0.1362 - accuracy: 0.9571 - val_loss: 0.2222 - val_accuracy: 0.9289\n",
      "Epoch 40/100\n",
      "597/597 [==============================] - 5s 9ms/step - loss: 0.1442 - accuracy: 0.9494 - val_loss: 0.2103 - val_accuracy: 0.9289\n",
      "Epoch 41/100\n",
      "597/597 [==============================] - 5s 8ms/step - loss: 0.1353 - accuracy: 0.9542 - val_loss: 0.2198 - val_accuracy: 0.9352\n",
      "Epoch 42/100\n",
      "597/597 [==============================] - 5s 9ms/step - loss: 0.1381 - accuracy: 0.9557 - val_loss: 0.2285 - val_accuracy: 0.9331\n",
      "Epoch 43/100\n",
      "597/597 [==============================] - 4s 6ms/step - loss: 0.1331 - accuracy: 0.9571 - val_loss: 0.2287 - val_accuracy: 0.9363\n",
      "Epoch 44/100\n",
      "597/597 [==============================] - 4s 7ms/step - loss: 0.1430 - accuracy: 0.9511 - val_loss: 0.2167 - val_accuracy: 0.9331\n",
      "Epoch 45/100\n",
      "597/597 [==============================] - 4s 7ms/step - loss: 0.1286 - accuracy: 0.9566 - val_loss: 0.2748 - val_accuracy: 0.9373\n",
      "Epoch 46/100\n",
      "597/597 [==============================] - 5s 8ms/step - loss: 0.1424 - accuracy: 0.9514 - val_loss: 0.2389 - val_accuracy: 0.9331\n",
      "Epoch 47/100\n",
      "597/597 [==============================] - 4s 7ms/step - loss: 0.1303 - accuracy: 0.9571 - val_loss: 0.2514 - val_accuracy: 0.9342\n",
      "Epoch 48/100\n",
      "597/597 [==============================] - 4s 7ms/step - loss: 0.1401 - accuracy: 0.9526 - val_loss: 0.2340 - val_accuracy: 0.9289\n",
      "Epoch 49/100\n",
      "597/597 [==============================] - 4s 6ms/step - loss: 0.1306 - accuracy: 0.9566 - val_loss: 0.2279 - val_accuracy: 0.9300\n",
      "Epoch 50/100\n",
      "597/597 [==============================] - 4s 7ms/step - loss: 0.1377 - accuracy: 0.9526 - val_loss: 0.2276 - val_accuracy: 0.9237\n",
      "Epoch 51/100\n",
      "597/597 [==============================] - 4s 7ms/step - loss: 0.1297 - accuracy: 0.9540 - val_loss: 0.2506 - val_accuracy: 0.9279\n",
      "Epoch 52/100\n",
      "597/597 [==============================] - 4s 6ms/step - loss: 0.1346 - accuracy: 0.9542 - val_loss: 0.2638 - val_accuracy: 0.9331\n",
      "Epoch 53/100\n",
      "597/597 [==============================] - 4s 7ms/step - loss: 0.1277 - accuracy: 0.9571 - val_loss: 0.2459 - val_accuracy: 0.9300\n",
      "Epoch 54/100\n",
      "597/597 [==============================] - 4s 7ms/step - loss: 0.1313 - accuracy: 0.9554 - val_loss: 0.2562 - val_accuracy: 0.9321\n",
      "Epoch 55/100\n",
      "597/597 [==============================] - 4s 7ms/step - loss: 0.1293 - accuracy: 0.9551 - val_loss: 0.2768 - val_accuracy: 0.9342\n",
      "Epoch 55: early stopping\n"
     ]
    }
   ],
   "source": [
    "history = model.fit(\n",
    "    X_train,\n",
    "    Y_train,\n",
    "    epochs=100,\n",
    "    verbose=1,\n",
    "    # (all rows - TEST_SIZE)/8\n",
    "    steps_per_epoch=int((4982-TEST_SIZE)/8),\n",
    "    callbacks=[tf.keras.callbacks.EarlyStopping(monitor=\"val_loss\", patience=50, verbose=1)],\n",
    "    validation_split=0.2\n",
    ")"
   ]
  },
  {
   "cell_type": "markdown",
   "id": "999036a5",
   "metadata": {},
   "source": [
    "### 모델 저장하기"
   ]
  },
  {
   "cell_type": "code",
   "execution_count": 265,
   "id": "ef3cc2e3",
   "metadata": {},
   "outputs": [],
   "source": [
    "save_path = f'./results/{NOW_TIME}'\n",
    "\n",
    "_save_path = f'{save_path}/datas'\n",
    "mkdir(_save_path)\n",
    "np.savez(f'{_save_path}/X_train.npz', np.array(X_train))\n",
    "np.savez(f'{_save_path}/Y_train.npz', np.array(X_train))"
   ]
  },
  {
   "cell_type": "code",
   "execution_count": 266,
   "id": "fc4139fe",
   "metadata": {},
   "outputs": [
    {
     "name": "stdout",
     "output_type": "stream",
     "text": [
      "INFO:tensorflow:Assets written to: ./results/20220808_110036/models\\assets\n"
     ]
    }
   ],
   "source": [
    "_save_path = f'{save_path}/models'\n",
    "model.save(f'{_save_path}/model.h5')\n",
    "model.save(_save_path)"
   ]
  },
  {
   "cell_type": "markdown",
   "id": "b1e140c9",
   "metadata": {},
   "source": [
    "### 모델 검증"
   ]
  },
  {
   "cell_type": "code",
   "execution_count": 267,
   "id": "f35984c0",
   "metadata": {},
   "outputs": [
    {
     "name": "stdout",
     "output_type": "stream",
     "text": [
      "[array([[ 0.1505356 , -0.20580405, -0.06949852, ..., -0.02016245,\n",
      "         0.02799543,  0.11354947],\n",
      "       [ 0.06241738,  0.19194196, -0.07007694, ...,  0.13943744,\n",
      "        -0.13798402, -0.02866331],\n",
      "       [-0.40875918, -0.5066735 ,  0.3125948 , ..., -0.20404181,\n",
      "         0.20957954, -0.36984652],\n",
      "       ...,\n",
      "       [ 0.21319103, -1.9408708 ,  0.12698747, ..., -0.412236  ,\n",
      "         0.30781192,  0.212763  ],\n",
      "       [ 0.0037078 ,  0.30013072, -0.5613401 , ...,  0.28949472,\n",
      "        -0.23240395,  0.07836132],\n",
      "       [ 0.03733874, -0.3091301 , -0.04704518, ..., -0.10462427,\n",
      "        -0.30758393, -0.1003765 ]], dtype=float32), array([-0.10439113,  0.0628128 , -0.09806023, -0.00827111, -0.02342619,\n",
      "        0.16440088,  0.05212455,  0.13181841, -0.05386545,  0.1910009 ,\n",
      "       -0.03152253, -0.08884527,  0.05699304,  0.04500548, -0.04346571,\n",
      "       -0.07887349, -0.14178443,  0.23444813, -0.04767065, -0.09422363,\n",
      "       -0.07731146,  0.075045  ,  0.        , -0.06101297, -0.10975379,\n",
      "       -0.22047947, -0.10038894, -0.04421516,  0.01959763, -0.04925818,\n",
      "       -0.10172477, -0.09811516, -0.01509373,  0.15764803, -0.05694987,\n",
      "       -0.10902034,  0.19157073, -0.13163966, -0.09865679,  0.13361955,\n",
      "       -0.02864813, -0.10238044,  0.00369385, -0.1134671 ,  0.06717245,\n",
      "       -0.13820481, -0.06285927,  0.13358763, -0.01204196, -0.05410343,\n",
      "       -0.09013183, -0.03035039,  0.19180903, -0.07046784, -0.06853873,\n",
      "        0.06013553, -0.16183527, -0.04420008,  0.01355693,  0.01326236,\n",
      "        0.1428453 , -0.03859904, -0.07537682,  0.04365144, -0.1422454 ,\n",
      "       -0.1365086 ,  0.1754276 ,  0.1609653 , -0.07771531,  0.04343156,\n",
      "       -0.1749154 ,  0.06459966,  0.06232394,  0.00395474,  0.02194072,\n",
      "       -0.05288294, -0.11562318, -0.0640705 , -0.20956607,  0.03474711,\n",
      "       -0.02740027, -0.10323768,  0.04669002,  0.06020902, -0.15716675,\n",
      "        0.        , -0.10420731, -0.07056745, -0.05032323, -0.15513782,\n",
      "       -0.06514385, -0.2940603 ,  0.02249708, -0.18555787,  0.02041662,\n",
      "       -0.0894701 ,  0.00052096,  0.02483489, -0.02774591,  0.09700185,\n",
      "        0.        ,  0.018775  , -0.03249399, -0.15964334, -0.01031935,\n",
      "       -0.13175188,  0.03911922, -0.15765421, -0.1590117 ,  0.12049469,\n",
      "        0.17395043, -0.14716706, -0.03873796, -0.08850717,  0.03770104,\n",
      "       -0.00903807, -0.1355249 ,  0.05484178, -0.13780695, -0.15283512,\n",
      "       -0.06904043, -0.11591859, -0.092724  ,  0.09445432, -0.10845727,\n",
      "        0.00228887, -0.04944798,  0.07915645], dtype=float32), array([[ 0.303166  , -0.05784873,  0.11926015, ...,  0.10547966,\n",
      "         0.16661203,  0.06592471],\n",
      "       [-0.02600915,  0.03592842, -0.2282399 , ...,  0.04521856,\n",
      "        -0.24485563,  0.07652109],\n",
      "       [-0.05768151, -0.02458219, -0.09439033, ..., -0.06230761,\n",
      "         0.03368277, -0.01071129],\n",
      "       ...,\n",
      "       [-0.15133408, -0.14576824, -0.203881  , ..., -0.05313586,\n",
      "         0.3683715 ,  0.1217834 ],\n",
      "       [ 0.20918392,  0.13238893,  0.0502262 , ...,  0.12869142,\n",
      "        -0.41585705, -0.16977745],\n",
      "       [ 0.16803183, -0.15458827,  0.05498069, ...,  0.11204118,\n",
      "        -0.07184836,  0.04106599]], dtype=float32), array([-0.23238182, -0.06452554,  0.06558149,  0.02230225, -0.05802289,\n",
      "       -0.01760194,  0.00299363, -0.05819795,  0.08727827, -0.08018696,\n",
      "        0.09890924,  0.00815899, -0.09245718, -0.08643843, -0.11727795,\n",
      "       -0.18360086,  0.06535214, -0.01760956,  0.05351795, -0.00936742,\n",
      "       -0.03563726,  0.17115873, -0.00979496,  0.00477817, -0.09126866,\n",
      "        0.11979893,  0.11680353,  0.05264216, -0.110895  ,  0.08257985,\n",
      "       -0.10548088,  0.05507995, -0.23778522,  0.04579963, -0.07501299,\n",
      "       -0.2225222 , -0.0215235 , -0.06187918,  0.087871  , -0.03507829,\n",
      "        0.08931968,  0.19169572, -0.08666313,  0.00127311,  0.06549782,\n",
      "       -0.0746894 ,  0.08131833,  0.00534017, -0.01623401, -0.05585204,\n",
      "       -0.08084513, -0.08356807, -0.15491728, -0.03849672, -0.10604472,\n",
      "       -0.17230387,  0.04895786, -0.05854461, -0.25571206, -0.05319234,\n",
      "       -0.0422323 , -0.09107964,  0.04219735, -0.07174032], dtype=float32), array([[-0.59753823,  0.11809384, -0.15199694, ...,  0.05360812,\n",
      "         0.04840265, -0.02397656],\n",
      "       [ 0.09142024, -0.1959359 ,  0.18623425, ...,  0.09442263,\n",
      "         0.01533454,  0.04815571],\n",
      "       [-0.256092  ,  0.12127837, -0.15718998, ..., -0.08583477,\n",
      "         0.13967651, -0.21168809],\n",
      "       ...,\n",
      "       [ 0.20542581, -0.0053013 ,  0.12687215, ...,  0.21537527,\n",
      "         0.04552714,  0.27388942],\n",
      "       [-0.13044304,  0.6794247 ,  0.15200731, ..., -0.19980307,\n",
      "        -0.46560615,  0.4308805 ],\n",
      "       [ 0.02470057, -0.113616  ,  0.1471534 , ..., -0.02766319,\n",
      "        -0.13533516,  0.09405068]], dtype=float32), array([-0.04133715,  0.1862826 , -0.08033029, -0.08873356, -0.00344852,\n",
      "       -0.18075491,  0.13489681,  0.04232693, -0.08475331, -0.02703292,\n",
      "       -0.02889017, -0.05067825, -0.18836933,  0.16951726, -0.03721599,\n",
      "       -0.19116285, -0.1280101 ,  0.07725973,  0.00091655, -0.0382042 ,\n",
      "       -0.06876816, -0.00772544,  0.11845174,  0.13334511, -0.00485578,\n",
      "       -0.14063394,  0.00744547,  0.05838395,  0.14211918, -0.14275293,\n",
      "        0.00125339,  0.03783435], dtype=float32), array([[-0.41244456, -0.34581655,  0.09009503, -0.06067069, -0.45532632,\n",
      "        -0.27970377, -0.35026067,  0.01928866, -0.31334406,  0.04053805,\n",
      "        -0.60984284, -0.49889886, -0.04030928, -0.07767319,  0.46595582,\n",
      "         0.25531682],\n",
      "       [ 0.44229034,  0.4351063 ,  0.27316839,  0.10870343,  0.10141306,\n",
      "        -0.2349069 , -0.10764816,  0.11651731, -0.33589947,  0.24103463,\n",
      "         0.3553113 ,  0.0340783 ,  0.06133318,  0.16483854, -0.05942079,\n",
      "        -0.16096207],\n",
      "       [-0.23988101, -0.03449078,  0.26409513, -0.0869121 , -0.11144982,\n",
      "        -0.2725376 ,  0.06075484, -0.28346074,  0.22023925,  0.10228426,\n",
      "         0.25183702, -0.04033139, -0.05221987,  0.18012458,  0.37951192,\n",
      "         0.08419463],\n",
      "       [-0.06210343, -0.22919272,  0.210738  ,  0.05887422,  0.15514669,\n",
      "         0.23274645, -0.19358975,  0.14347962, -0.27774107,  0.05591395,\n",
      "         0.10878095,  0.3110039 ,  0.06703027,  0.3642989 ,  0.23719785,\n",
      "         0.2040346 ],\n",
      "       [ 0.3739564 ,  0.07732244,  0.11499603,  0.23155095,  0.10892932,\n",
      "         0.29839867,  0.29378256,  0.00499863, -0.265361  , -0.14428206,\n",
      "         0.3261158 , -0.12554464, -0.10392532, -0.11008159,  0.04936086,\n",
      "        -0.02042839],\n",
      "       [-0.02093865, -0.07595445, -0.09974226, -0.05640092,  0.21111362,\n",
      "        -0.14401081, -0.3494303 , -0.02754816, -0.09421348, -0.16441925,\n",
      "        -0.04093182, -0.08992381,  0.0630243 , -0.23234598, -0.23241447,\n",
      "        -0.00993762],\n",
      "       [ 0.22094528, -0.15498182, -0.0608183 , -0.1888538 ,  0.02563871,\n",
      "         0.16503756, -0.01087452, -0.08617283,  0.18522847, -0.3372563 ,\n",
      "         0.3556232 ,  0.11690266, -0.12622294,  0.19190541, -0.15123115,\n",
      "         0.14743386],\n",
      "       [-0.14564699, -0.12837186,  0.26768655,  0.62005687, -0.44935864,\n",
      "        -0.3373995 ,  0.39259914, -0.3433266 ,  0.12750582,  0.47336802,\n",
      "         0.23347715, -0.1564139 ,  0.10426304,  0.19911309,  0.17358951,\n",
      "        -0.1097324 ],\n",
      "       [-0.02386844, -0.24187486,  0.00521632,  0.06679998, -0.07890975,\n",
      "         0.14230072,  0.5166908 , -0.316414  , -0.14685294,  0.48703578,\n",
      "         0.04591747,  0.09292134, -0.10203256, -0.4007019 ,  0.4100442 ,\n",
      "         0.28128907],\n",
      "       [ 0.07204548, -0.40767044,  0.4510697 , -0.00178339, -0.00662396,\n",
      "         0.24014272,  0.407563  ,  0.01255947, -0.27515075,  0.34647414,\n",
      "         0.07607121, -0.02252801,  0.15949094, -0.2639341 ,  0.3597584 ,\n",
      "        -0.15407227],\n",
      "       [ 0.21702307, -0.06853338, -0.00169842,  0.02330316, -0.4888316 ,\n",
      "        -0.34559506,  0.21497652, -0.28284428, -0.33146912,  0.08355925,\n",
      "         0.04420568,  0.11123367, -0.1647979 ,  0.09008861, -0.06259952,\n",
      "        -0.33298954],\n",
      "       [ 0.3202245 ,  0.58036524, -0.32274935,  0.5007142 , -0.33258337,\n",
      "         0.1837719 ,  0.22149044, -0.03571493, -0.2482508 , -0.02563218,\n",
      "        -0.23507658,  0.09087315, -0.1990322 ,  0.2407083 ,  0.10341913,\n",
      "         0.17055462],\n",
      "       [ 0.28007522, -0.03704947,  0.13445127, -0.22072633,  0.04734828,\n",
      "         0.09693648, -0.1340434 , -0.30996168, -0.26294363,  0.21593595,\n",
      "        -0.19485568,  0.01076095,  0.14229871,  0.04229805, -0.31633937,\n",
      "         0.07655814],\n",
      "       [-0.40476725, -0.66719574,  0.6304033 , -0.2816533 , -0.13745892,\n",
      "         0.16890639, -0.07578316, -0.28961647, -0.31213373,  0.4161085 ,\n",
      "        -0.46969512, -0.34146446, -0.06492169, -0.42648917,  0.4989058 ,\n",
      "        -0.39480755],\n",
      "       [ 0.05752645,  0.48194924, -0.2829077 ,  0.4130706 ,  0.20765886,\n",
      "        -0.12631813, -0.19071934,  0.29079226, -0.19857354,  0.06715498,\n",
      "        -0.12461994,  0.26071662,  0.00888261,  0.46822366, -0.10697841,\n",
      "         0.26810873],\n",
      "       [ 0.16288316,  0.55979085, -0.4626794 ,  0.20966882,  0.20259929,\n",
      "         0.00251375,  0.00384799, -0.24914317,  0.10000154, -0.01455365,\n",
      "         0.2838581 ,  0.55703044,  0.05261876,  0.5969952 , -0.12201063,\n",
      "         0.16217597],\n",
      "       [ 0.51784474,  0.31133533,  0.17035271,  0.4366413 , -0.08526856,\n",
      "        -0.33058244, -0.19393283, -0.23137279, -0.09927517, -0.33491847,\n",
      "        -0.1608334 ,  0.3967735 , -0.40171418,  0.3124617 , -0.46735954,\n",
      "         0.14347667],\n",
      "       [ 0.00517851,  0.22647269, -0.32638672,  0.06620266, -0.229464  ,\n",
      "        -0.27900285, -0.6680409 ,  0.25420848,  0.10174164,  0.03908349,\n",
      "         0.26458138,  0.2670231 ,  0.08726196,  0.06280924, -0.43920973,\n",
      "        -0.08396018],\n",
      "       [ 0.25062343, -0.04589006, -0.21852043,  0.3786559 ,  0.05272062,\n",
      "        -0.2678707 ,  0.24294934, -0.14265762, -0.07031877,  0.22915089,\n",
      "        -0.14669077,  0.21511102, -0.6003383 ,  0.34528556,  0.15484947,\n",
      "         0.23076151],\n",
      "       [-0.37657875, -0.09047016,  0.67175454, -0.19147502,  0.24771562,\n",
      "        -0.13012639,  0.25123772,  0.18339135, -0.2545215 ,  0.27196905,\n",
      "        -0.63960034,  0.15007313,  0.24591056, -0.41907808,  0.10145336,\n",
      "        -0.22655733],\n",
      "       [-0.031506  ,  0.44694844, -0.45579323,  0.47620097, -0.24578513,\n",
      "        -0.11283434, -0.24131168,  0.13107291,  0.09567066, -0.4479547 ,\n",
      "        -0.33480746,  0.30204925,  0.0491126 ,  0.15299246, -0.27573952,\n",
      "        -0.1894889 ],\n",
      "       [ 0.04137263,  0.033126  , -0.2970131 , -0.20630275, -0.05071066,\n",
      "         0.01519434, -0.16817401, -0.36568418,  0.15382583, -0.05672196,\n",
      "         0.07590248, -0.09258702, -0.13846292, -0.18985026, -0.7071323 ,\n",
      "        -0.22013997],\n",
      "       [ 0.07438543,  0.07187802, -0.33863315,  0.09859136, -0.3946619 ,\n",
      "        -0.36485434,  0.15300879,  0.24540192,  0.20890477, -0.26789686,\n",
      "        -0.00834812, -0.27735308, -0.00284172, -0.0451333 , -0.6547682 ,\n",
      "        -0.00374946],\n",
      "       [ 0.09354899,  0.06666481,  0.17764868,  0.1338537 , -0.473517  ,\n",
      "        -0.17470706, -0.10266321, -0.45505595,  0.02815914, -0.32573903,\n",
      "         0.33708888,  0.07765162, -0.10466184, -0.03997775, -0.1470204 ,\n",
      "         0.10111582],\n",
      "       [-0.06043701,  0.2624719 ,  0.43746838, -0.03664233, -0.08329052,\n",
      "        -0.22330359, -0.63954836,  0.20968603,  0.20288678,  0.21641505,\n",
      "        -0.32124853, -0.10812946,  0.12826274,  0.14098336,  0.38012502,\n",
      "        -0.09661678],\n",
      "       [-0.21160698, -0.02044942, -0.0471383 ,  0.06260543, -0.22783057,\n",
      "         0.02977076,  0.19475761,  0.12498058, -0.12443891, -0.16522542,\n",
      "        -0.16725762,  0.07707959, -0.0324169 ,  0.07970591,  0.33317396,\n",
      "         0.18128863],\n",
      "       [-0.30177015, -0.05579024,  0.11063033, -0.67066586, -0.15773349,\n",
      "        -0.3391785 ,  0.7197469 , -0.46503332, -0.2846374 ,  0.5309522 ,\n",
      "        -0.62107956, -0.05780107, -0.314486  , -0.46696308,  0.04352845,\n",
      "        -0.16712433],\n",
      "       [-0.14610949,  0.17700432, -0.476231  ,  0.16605243,  0.02894313,\n",
      "        -0.09571633, -0.05031304,  0.23017037, -0.0278379 ,  0.05429355,\n",
      "         0.33077332,  0.08326947, -0.00171343,  0.23708011, -0.16878569,\n",
      "        -0.15018977],\n",
      "       [ 0.16876242,  0.30020478, -0.3839883 , -0.13577199, -0.4265279 ,\n",
      "        -0.07817528, -0.10334948,  0.12312281, -0.1152424 ,  0.03262452,\n",
      "         0.2239862 , -0.18103582,  0.26816276,  0.30953005,  0.05944731,\n",
      "        -0.39704004],\n",
      "       [ 0.02975547, -0.23505834, -0.16236448,  0.17080131,  0.17240348,\n",
      "         0.06988953, -0.08850673, -0.04214616,  0.21916723, -0.23319803,\n",
      "         0.24544154, -0.41931415,  0.19587718, -0.13064726, -0.18639055,\n",
      "        -0.28484306],\n",
      "       [-0.5255729 , -0.40585446,  0.33920357, -0.646356  , -0.01771899,\n",
      "        -0.04729159,  0.3438275 ,  0.3152511 ,  0.13276544,  0.73410225,\n",
      "        -0.29948905, -0.6767687 , -0.04046614, -0.06065334,  0.219505  ,\n",
      "        -0.14354749],\n",
      "       [ 0.17810301,  0.04852286,  0.20863578, -0.06851459,  0.24692568,\n",
      "        -0.13582776, -0.34489053, -0.452934  , -0.09789982,  0.03707516,\n",
      "         0.00088331, -0.16478482,  0.06578562,  0.06042858,  0.4421489 ,\n",
      "        -0.41261804]], dtype=float32), array([ 0.2318561 ,  0.21847297,  0.05312365,  0.05469414, -0.14707392,\n",
      "       -0.06497474,  0.03824439, -0.25237995, -0.15405002,  0.09544882,\n",
      "        0.20080946, -0.02043915, -0.29183322,  0.21167463, -0.0453401 ,\n",
      "       -0.15647742], dtype=float32), array([[ 0.26619554, -0.5530402 ],\n",
      "       [ 0.07496552, -0.5976908 ],\n",
      "       [-0.14858705,  0.41927126],\n",
      "       [ 0.2903115 ,  0.12165692],\n",
      "       [-0.42115423, -0.15967076],\n",
      "       [-0.5061931 , -0.4581657 ],\n",
      "       [-0.64953166,  0.10088499],\n",
      "       [-0.25383702, -0.25577354],\n",
      "       [ 0.4145219 ,  0.46563286],\n",
      "       [-0.46161726,  0.6707289 ],\n",
      "       [ 0.5744428 , -0.29040295],\n",
      "       [ 0.3588749 ,  0.22091904],\n",
      "       [-0.31118673,  0.11814038],\n",
      "       [ 0.22132787, -0.2695246 ],\n",
      "       [-0.42153254,  0.51149756],\n",
      "       [-0.21896331,  0.19246201]], dtype=float32), array([ 0.21340898, -0.21340877], dtype=float32)]\n"
     ]
    }
   ],
   "source": [
    "print(model.get_weights())"
   ]
  },
  {
   "cell_type": "code",
   "execution_count": 269,
   "id": "580dfde1",
   "metadata": {},
   "outputs": [
    {
     "name": "stdout",
     "output_type": "stream",
     "text": [
      "193\n",
      "accuracy percent: 96.5%\n"
     ]
    },
    {
     "data": {
      "text/html": [
       "<div>\n",
       "<style scoped>\n",
       "    .dataframe tbody tr th:only-of-type {\n",
       "        vertical-align: middle;\n",
       "    }\n",
       "\n",
       "    .dataframe tbody tr th {\n",
       "        vertical-align: top;\n",
       "    }\n",
       "\n",
       "    .dataframe thead th {\n",
       "        text-align: right;\n",
       "    }\n",
       "</style>\n",
       "<table border=\"1\" class=\"dataframe\">\n",
       "  <thead>\n",
       "    <tr style=\"text-align: right;\">\n",
       "      <th></th>\n",
       "      <th>rate_0</th>\n",
       "      <th>rate_1</th>\n",
       "      <th>predict</th>\n",
       "      <th>res</th>\n",
       "      <th>accuracy</th>\n",
       "    </tr>\n",
       "  </thead>\n",
       "  <tbody>\n",
       "    <tr>\n",
       "      <th>0</th>\n",
       "      <td>0.893423</td>\n",
       "      <td>0.072176</td>\n",
       "      <td>0</td>\n",
       "      <td>0</td>\n",
       "      <td>True</td>\n",
       "    </tr>\n",
       "    <tr>\n",
       "      <th>1</th>\n",
       "      <td>0.807318</td>\n",
       "      <td>0.165638</td>\n",
       "      <td>0</td>\n",
       "      <td>0</td>\n",
       "      <td>True</td>\n",
       "    </tr>\n",
       "    <tr>\n",
       "      <th>2</th>\n",
       "      <td>0.842369</td>\n",
       "      <td>0.128447</td>\n",
       "      <td>0</td>\n",
       "      <td>0</td>\n",
       "      <td>True</td>\n",
       "    </tr>\n",
       "    <tr>\n",
       "      <th>3</th>\n",
       "      <td>0.776334</td>\n",
       "      <td>0.182566</td>\n",
       "      <td>0</td>\n",
       "      <td>0</td>\n",
       "      <td>True</td>\n",
       "    </tr>\n",
       "    <tr>\n",
       "      <th>4</th>\n",
       "      <td>0.922758</td>\n",
       "      <td>0.057534</td>\n",
       "      <td>0</td>\n",
       "      <td>0</td>\n",
       "      <td>True</td>\n",
       "    </tr>\n",
       "    <tr>\n",
       "      <th>...</th>\n",
       "      <td>...</td>\n",
       "      <td>...</td>\n",
       "      <td>...</td>\n",
       "      <td>...</td>\n",
       "      <td>...</td>\n",
       "    </tr>\n",
       "    <tr>\n",
       "      <th>195</th>\n",
       "      <td>0.999996</td>\n",
       "      <td>0.000001</td>\n",
       "      <td>0</td>\n",
       "      <td>0</td>\n",
       "      <td>True</td>\n",
       "    </tr>\n",
       "    <tr>\n",
       "      <th>196</th>\n",
       "      <td>0.910630</td>\n",
       "      <td>0.067802</td>\n",
       "      <td>0</td>\n",
       "      <td>0</td>\n",
       "      <td>True</td>\n",
       "    </tr>\n",
       "    <tr>\n",
       "      <th>197</th>\n",
       "      <td>0.929903</td>\n",
       "      <td>0.046107</td>\n",
       "      <td>0</td>\n",
       "      <td>0</td>\n",
       "      <td>True</td>\n",
       "    </tr>\n",
       "    <tr>\n",
       "      <th>198</th>\n",
       "      <td>0.865532</td>\n",
       "      <td>0.115525</td>\n",
       "      <td>0</td>\n",
       "      <td>0</td>\n",
       "      <td>True</td>\n",
       "    </tr>\n",
       "    <tr>\n",
       "      <th>199</th>\n",
       "      <td>0.710264</td>\n",
       "      <td>0.255943</td>\n",
       "      <td>0</td>\n",
       "      <td>0</td>\n",
       "      <td>True</td>\n",
       "    </tr>\n",
       "  </tbody>\n",
       "</table>\n",
       "<p>200 rows × 5 columns</p>\n",
       "</div>"
      ],
      "text/plain": [
       "       rate_0    rate_1  predict  res  accuracy\n",
       "0    0.893423  0.072176        0    0      True\n",
       "1    0.807318  0.165638        0    0      True\n",
       "2    0.842369  0.128447        0    0      True\n",
       "3    0.776334  0.182566        0    0      True\n",
       "4    0.922758  0.057534        0    0      True\n",
       "..        ...       ...      ...  ...       ...\n",
       "195  0.999996  0.000001        0    0      True\n",
       "196  0.910630  0.067802        0    0      True\n",
       "197  0.929903  0.046107        0    0      True\n",
       "198  0.865532  0.115525        0    0      True\n",
       "199  0.710264  0.255943        0    0      True\n",
       "\n",
       "[200 rows x 5 columns]"
      ]
     },
     "execution_count": 269,
     "metadata": {},
     "output_type": "execute_result"
    }
   ],
   "source": [
    "_predictResult = np.array(Y_test)\n",
    "predictResult = np.argmax(_predictResult, axis=1)\n",
    "_predictInfos = model.predict(X_test)\n",
    "predictInfos = np.argmax(_predictInfos, axis=1)\n",
    "\n",
    "RESULT_INFOS = []\n",
    "for i in range(len(predictResult)):\n",
    "    RESULT_INFOS.append({\n",
    "        \"rate_0\": _predictInfos[i][0],\n",
    "        \"rate_1\": _predictInfos[i][1],\n",
    "        \"predict\": predictInfos[i],\n",
    "        \"res\": predictResult[i],\n",
    "        \"accuracy\": predictResult[i] == predictInfos[i]\n",
    "    })\n",
    "\n",
    "FilteredResultInfos = list(filter(lambda val: val['accuracy'] == True, RESULT_INFOS))\n",
    "print(len(FilteredResultInfos))\n",
    "print(f'accuracy percent: {len(FilteredResultInfos)/len(RESULT_INFOS)*100}%')\n",
    "\n",
    "pd.DataFrame(RESULT_INFOS)"
   ]
  }
 ],
 "metadata": {
  "interpreter": {
   "hash": "6dc46c9fe9882a1afddbdcc3ea330f94a613a6941464ccd87cb080f290028a72"
  },
  "kernelspec": {
   "display_name": "Python 3.8.13 ('tf_gpu')",
   "language": "python",
   "name": "python3"
  },
  "language_info": {
   "codemirror_mode": {
    "name": "ipython",
    "version": 3
   },
   "file_extension": ".py",
   "mimetype": "text/x-python",
   "name": "python",
   "nbconvert_exporter": "python",
   "pygments_lexer": "ipython3",
   "version": "3.8.13"
  }
 },
 "nbformat": 4,
 "nbformat_minor": 5
}
= []\n",
    "for i in range(len(predictResult)):\n",
    "    RESULT_INFOS.append({\n",
    "        \"rate_0\": _predictInfos[i][0],\n",
    "        \"rate_1\": _predictInfos[i][1],\n",
    "        \"predict\": predictInfos[i],\n",
    "        \"res\": predictResult[i],\n",
    "        \"accuracy\": predictResult[i] == predictInfos[i]\n",
    "    })\n",
    "\n",
    "FilteredResultInfos = list(filter(lambda val: val['accuracy'] == True, RESULT_INFOS))\n",
    "print(len(FilteredResultInfos))\n",
    "print(f'accuracy percent: {len(FilteredResultInfos)/len(RESULT_INFOS)*100}%')\n",
    "\n",
    "pd.DataFrame(RESULT_INFOS)"
   ]
  }
 ],
 "metadata": {
  "interpreter": {
   "hash": "6dc46c9fe9882a1afddbdcc3ea330f94a613a6941464ccd87cb080f290028a72"
  },
  "kernelspec": {
   "display_name": "Python 3.8.13 ('tf_gpu')",
   "language": "python",
   "name": "python3"
  },
  "language_info": {
   "codemirror_mode": {
    "name": "ipython",
    "version": 3
   },
   "file_extension": ".py",
   "mimetype": "text/x-python",
   "name": "python",
   "nbconvert_exporter": "python",
   "pygments_lexer": "ipython3",
   "version": "3.8.13"
  }
 },
 "nbformat": 4,
 "nbformat_minor": 5
}
